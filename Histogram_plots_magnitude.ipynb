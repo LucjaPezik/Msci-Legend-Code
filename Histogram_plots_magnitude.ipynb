{
 "cells": [
  {
   "cell_type": "code",
   "execution_count": 1,
   "metadata": {},
   "outputs": [],
   "source": [
    "import pandas as pd\n",
    "import matplotlib.pyplot as plt\n"
   ]
  },
  {
   "cell_type": "markdown",
   "metadata": {},
   "source": [
    "This notebook describes the data analysis for the magnitude, for microdischarge events, discharge events and for detector specifics."
   ]
  },
  {
   "cell_type": "code",
   "execution_count": 2,
   "metadata": {},
   "outputs": [],
   "source": [
    "#importing all the data \n",
    "MDB1 = pd.read_excel('MDB1.xlsx')\n",
    "MDC1 = pd.read_excel('MDC1.xlsx')\n",
    "MDI1 = pd.read_excel('MDI1.xlsx')\n",
    "MDP1 = pd.read_excel('MDP1.xlsx')\n",
    "\n",
    "MMB1 = pd.read_excel('MMB1.xlsx')\n",
    "MMC1= pd.read_excel('MMC1.xlsx')\n",
    "MMI1= pd.read_excel('MMI1.xlsx')\n",
    "MMP1= pd.read_excel('MMP1.xlsx')\n",
    "\n",
    "\n",
    "\n",
    "MDC1 = MDC1.drop(columns=[' Max Magnitude', 'Min Magnitude'])\n",
    "MDI1 = MDI1.drop(columns=[' Max Magnitude', 'Min Magnitude'])\n",
    "MMC1 = MMC1.drop(columns=['Max Magnitude', 'Min Magnitude'])\n",
    "MMI1 = MMI1.drop(columns=['Max Magnitude', 'Min Magnitude'])\n",
    "\n"
   ]
  },
  {
   "cell_type": "code",
   "execution_count": 3,
   "metadata": {},
   "outputs": [],
   "source": [
    "MDB2 = pd.read_excel('MDB2.xlsx')\n",
    "MDC2 = pd.read_excel('MDC2.xlsx')\n",
    "MDI2 = pd.read_excel('MDI2.xlsx')\n",
    "MDP2 = pd.read_excel('MDP2.xlsx')\n",
    "\n",
    "MMB2 = pd.read_excel('MMB2.xlsx')\n",
    "MMC2= pd.read_excel('MMC2.xlsx')\n",
    "MMI2= pd.read_excel('MMI2.xlsx')\n",
    "MMP2= pd.read_excel('MMP2.xlsx')\n",
    "\n",
    "MDC2 = MDC2.drop(columns=[' Max Magnitude', 'Min Magnitude'])\n",
    "MDI2 = MDI2.drop(columns=[' Max Magnitude', 'Min Magnitude'])\n",
    "MMC2 = MMC2.drop(columns=['Max Magnitude', 'Min Magnitude'])\n",
    "MMI2 = MMI2.drop(columns=['Max Magnitude', 'Min Magnitude'])"
   ]
  },
  {
   "cell_type": "code",
   "execution_count": 4,
   "metadata": {},
   "outputs": [],
   "source": [
    "MDB3 = pd.read_excel('MDB3.xlsx')\n",
    "MDC3 = pd.read_excel('MDC3.xlsx')\n",
    "MDI3 = pd.read_excel('MDI3.xlsx')\n",
    "MDP3 = pd.read_excel('MDP3.xlsx')\n",
    "\n",
    "MMB3 = pd.read_excel('MMB3.xlsx')\n",
    "MMC3= pd.read_excel('MMC3.xlsx')\n",
    "MMI3= pd.read_excel('MMI3.xlsx')\n",
    "MMP3= pd.read_excel('MMP3.xlsx')\n",
    "\n",
    "MDC3 = MDC3.drop(columns=[' Max Magnitude', 'Min Magnitude'])\n",
    "MDI3 = MDI3.drop(columns=[' Max Magnitude', 'Min Magnitude'])\n",
    "MMC3 = MMC3.drop(columns=['Max Magnitude', 'Min Magnitude'])\n",
    "MMI3 = MMI3.drop(columns=['Max Magnitude', 'Min Magnitude'])"
   ]
  },
  {
   "cell_type": "code",
   "execution_count": 5,
   "metadata": {},
   "outputs": [],
   "source": [
    "MDB4 = pd.read_excel('MDB4.xlsx')\n",
    "MDC4 = pd.read_excel('MDC4.xlsx')\n",
    "MDI4 = pd.read_excel('MDI4.xlsx')\n",
    "#MDP4 = pd.read_excel('MDP4.xlsx')\n",
    "\n",
    "MMB4 = pd.read_excel('MMB4.xlsx')\n",
    "MMC4= pd.read_excel('MMC4.xlsx')\n",
    "MMI4= pd.read_excel('MMI4.xlsx')\n",
    "MMP4= pd.read_excel('MMP4.xlsx')\n",
    "\n",
    "MDC4 = MDC4.drop(columns=[' Max Magnitude', 'Min Magnitude'])\n",
    "MDI4 = MDI4.drop(columns=[' Max Magnitude', 'Min Magnitude'])\n",
    "MMC4 = MMC4.drop(columns=['Max Magnitude', 'Min Magnitude'])\n",
    "MMI4 = MMI4.drop(columns=['Max Magnitude', 'Min Magnitude'])"
   ]
  },
  {
   "cell_type": "code",
   "execution_count": 6,
   "metadata": {},
   "outputs": [],
   "source": [
    "MDB5 = pd.read_excel('MDB5.xlsx')\n",
    "MDC5 = pd.read_excel('MDC5.xlsx')\n",
    "MDI5 = pd.read_excel('MDI5.xlsx')\n",
    "MDP5 = pd.read_excel('MDP5.xlsx')\n",
    "\n",
    "MMB5 = pd.read_excel('MMB5.xlsx')\n",
    "MMC5= pd.read_excel('MMC5.xlsx')\n",
    "MMI5= pd.read_excel('MMI5.xlsx')\n",
    "MMP5= pd.read_excel('MMP5.xlsx')\n",
    "\n",
    "MDC5 = MDC5.drop(columns=[' Max Magnitude', 'Min Magnitude'])\n",
    "MDI5 = MDI5.drop(columns=[' Max Magnitude', 'Min Magnitude'])\n",
    "MMC5 = MMC5.drop(columns=['Max Magnitude', 'Min Magnitude'])\n",
    "MMI5 = MMI5.drop(columns=['Max Magnitude', 'Min Magnitude'])"
   ]
  },
  {
   "cell_type": "code",
   "execution_count": 7,
   "metadata": {},
   "outputs": [],
   "source": [
    "MDB6 = pd.read_excel('MDB6.xlsx')\n",
    "MDC6 = pd.read_excel('MDC6.xlsx')\n",
    "MDI6 = pd.read_excel('MDI6.xlsx')\n",
    "MDP6 = pd.read_excel('MDP6.xlsx')\n",
    "\n",
    "MMB6= pd.read_excel('MMB6.xlsx')\n",
    "MMC6= pd.read_excel('MMC6.xlsx')\n",
    "MMI6= pd.read_excel('MMI6.xlsx')\n",
    "MMP6= pd.read_excel('MMP6.xlsx')\n",
    "\n",
    "MDC6 = MDC6.drop(columns=[' Max Magnitude', 'Min Magnitude'])\n",
    "MDI6 = MDI6.drop(columns=[' Max Magnitude', 'Min Magnitude'])\n",
    "MMC6 = MMC6.drop(columns=['Max Magnitude', 'Min Magnitude'])\n",
    "MMI6 = MMI6.drop(columns=['Max Magnitude', 'Min Magnitude'])"
   ]
  },
  {
   "cell_type": "code",
   "execution_count": 8,
   "metadata": {},
   "outputs": [],
   "source": [
    "MDB7 = pd.read_excel('MDB7.xlsx')\n",
    "MDC7 = pd.read_excel('MDC7.xlsx')\n",
    "MDI7 = pd.read_excel('MDI7.xlsx')\n",
    "MDP7 = pd.read_excel('MDP7.xlsx')\n",
    "\n",
    "MMB7 = pd.read_excel('MMB7.xlsx')\n",
    "MMC7= pd.read_excel('MMC7.xlsx')\n",
    "MMI7= pd.read_excel('MMI7.xlsx')\n",
    "MMP7= pd.read_excel('MMP7.xlsx')\n",
    "\n",
    "MDC7 = MDC7.drop(columns=[' Max Magnitude', 'Min Magnitude'])\n",
    "MDI7 = MDI7.drop(columns=[' Max Magnitude', 'Min Magnitude'])\n",
    "MMC7 = MMC7.drop(columns=['Max Magnitude', 'Min Magnitude'])\n",
    "MMI7 = MMI7.drop(columns=['Max Magnitude', 'Min Magnitude'])"
   ]
  },
  {
   "cell_type": "code",
   "execution_count": 9,
   "metadata": {},
   "outputs": [],
   "source": [
    "MDB8 = pd.read_excel('MDB8.xlsx')\n",
    "MDC8 = pd.read_excel('MDC8.xlsx')\n",
    "MDI8 = pd.read_excel('MDI8.xlsx')\n",
    "MDP8 = pd.read_excel('MDP8.xlsx')\n",
    "\n",
    "MMB8 = pd.read_excel('MMB8.xlsx')\n",
    "MMC8= pd.read_excel('MMC8.xlsx')\n",
    "MMI8= pd.read_excel('MMI8.xlsx')\n",
    "MMP8= pd.read_excel('MMP8.xlsx')\n",
    "\n",
    "MDC8 = MDC8.drop(columns=[' Max Magnitude', 'Min Magnitude'])\n",
    "MDI8 = MDI8.drop(columns=[' Max Magnitude', 'Min Magnitude'])\n",
    "MMC8 = MMC8.drop(columns=['Max Magnitude', 'Min Magnitude'])\n",
    "MMI8 = MMI8.drop(columns=['Max Magnitude', 'Min Magnitude'])"
   ]
  },
  {
   "cell_type": "code",
   "execution_count": 10,
   "metadata": {},
   "outputs": [],
   "source": [
    "MDB9 = pd.read_excel('MDB9.xlsx')\n",
    "MDC9 = pd.read_excel('MDC9.xlsx')\n",
    "MDI9 = pd.read_excel('MDI9.xlsx')\n",
    "MDP9 = pd.read_excel('MDP9.xlsx')\n",
    "\n",
    "MMB9 = pd.read_excel('MMB9.xlsx')\n",
    "MMC9= pd.read_excel('MMC9.xlsx')\n",
    "MMI9= pd.read_excel('MMI9.xlsx')\n",
    "MMP9= pd.read_excel('MMP9.xlsx')\n",
    "\n",
    "MDC9 = MDC9.drop(columns=[' Max Magnitude', 'Min Magnitude'])\n",
    "MDI9 = MDI9.drop(columns=[' Max Magnitude', 'Min Magnitude'])\n",
    "MMC9 = MMC9.drop(columns=['Max Magnitude', 'Min Magnitude'])\n",
    "MMI9 = MMI9.drop(columns=['Max Magnitude', 'Min Magnitude'])"
   ]
  },
  {
   "cell_type": "code",
   "execution_count": 11,
   "metadata": {},
   "outputs": [],
   "source": [
    "MDB10 = pd.read_excel('MDB10.xlsx')\n",
    "MDC10 = pd.read_excel('MDC10.xlsx')\n",
    "MDI10 = pd.read_excel('MDI10.xlsx')\n",
    "MDP10 = pd.read_excel('MDP10.xlsx')\n",
    "\n",
    "MMB10 = pd.read_excel('MMB10.xlsx')\n",
    "MMC10= pd.read_excel('MMC10.xlsx')\n",
    "MMI10= pd.read_excel('MMI10.xlsx')\n",
    "MMP10= pd.read_excel('MMP10.xlsx')\n",
    "\n",
    "MDC10 = MDC10.drop(columns=[' Max Magnitude', 'Min Magnitude'])\n",
    "MDI10 = MDI10.drop(columns=[' Max Magnitude', 'Min Magnitude'])\n",
    "MMC10 = MMC10.drop(columns=['Max Magnitude', 'Min Magnitude'])\n",
    "MMI10 = MMI10.drop(columns=['Max Magnitude', 'Min Magnitude'])"
   ]
  },
  {
   "cell_type": "code",
   "execution_count": 12,
   "metadata": {},
   "outputs": [],
   "source": [
    "MDB11 = pd.read_excel('MDB11.xlsx')\n",
    "MDC11 = pd.read_excel('MDC11.xlsx')\n",
    "MDI11 = pd.read_excel('MDI11.xlsx')\n",
    "MDP11 = pd.read_excel('MDP11.xlsx')\n",
    "\n",
    "MMB11 = pd.read_excel('MMB11.xlsx')\n",
    "MMC11= pd.read_excel('MMC11.xlsx')\n",
    "MMI11= pd.read_excel('MMI11.xlsx')\n",
    "MMP11= pd.read_excel('MMP11.xlsx')\n",
    "\n",
    "MDC11 = MDC11.drop(columns=[' Max Magnitude', 'Min Magnitude'])\n",
    "MDI11 = MDI11.drop(columns=[' Max Magnitude', 'Min Magnitude'])\n",
    "MMC11 = MMC11.drop(columns=['Max Magnitude', 'Min Magnitude'])\n",
    "MMI11 = MMI11.drop(columns=['Max Magnitude', 'Min Magnitude'])"
   ]
  },
  {
   "cell_type": "code",
   "execution_count": 13,
   "metadata": {},
   "outputs": [
    {
     "name": "stdout",
     "output_type": "stream",
     "text": [
      "Index(['Detector Name', 'Event', 'Maximum magntiude', 'Minimum magnitude'], dtype='object')\n"
     ]
    }
   ],
   "source": [
    "MDB12 = pd.read_excel('MDB12.xlsx')\n",
    "MDC12 = pd.read_excel('MDC12.xlsx')\n",
    "MDI12 = pd.read_excel('MDI12.xlsx')\n",
    "MDP12 = pd.read_excel('MDP12.xlsx')\n",
    "\n",
    "MMB12 = pd.read_excel('MMB12.xlsx')\n",
    "MMC12= pd.read_excel('MMC12.xlsx')\n",
    "MMI12= pd.read_excel('MMI12.xlsx')\n",
    "MMP12= pd.read_excel('MMP12.xlsx')\n",
    "\n",
    "MDC12 = MDC12.drop(columns=[' Max Magnitude', 'Min Magnitude'])\n",
    "MDI12 = MDI12.drop(columns=[' Max Magnitude', 'Min Magnitude'])\n",
    "MMC12 = MMC12.drop(columns=['Max Magnitude', 'Min Magnitude'])\n",
    "MMI12 = MMI12.drop(columns=['Max Magnitude', 'Min Magnitude'])\n",
    "\n",
    "print(MDC1.columns)"
   ]
  },
  {
   "cell_type": "code",
   "execution_count": 52,
   "metadata": {},
   "outputs": [
    {
     "name": "stdout",
     "output_type": "stream",
     "text": [
      "  Detector Name  Event  Minimum magnitude  Maximum magntiude\n",
      "0     ch1081601     15               3719               3819\n"
     ]
    }
   ],
   "source": [
    "print(MDP12)"
   ]
  },
  {
   "cell_type": "code",
   "execution_count": 14,
   "metadata": {},
   "outputs": [],
   "source": [
    "#combining all discharge events\n",
    "discharge_dfs = [MDB1, MDC1, MDI1, MDP1, MDB2, MDC2, MDI2, MDP2, MDB3, MDC3, MDI3, MDP3,\n",
    "                 MDB4, MDC4, MDI4, MDB5, MDC5, MDI5, MDP5, MDB6, MDC6, MDI6, MDP6, \n",
    "                 MDB7, MDC7, MDI7, MDP7, MDB8, MDC8, MDI8, MDP8, MDB9, MDC9, MDI9, MDP9,\n",
    "                 MDB10, MDC10, MDI10, MDP10, MDB11, MDC11, MDI11, MDP11, MDB12, MDC12, MDI12, MDP12]\n",
    "\n",
    "\n",
    "for i, discharge_df in enumerate(discharge_dfs, start=1):\n",
    "    # Check if the DataFrame contains the column 'Maximum magnitude'\n",
    "    if 'Maximum magnitude' in discharge_df.columns:\n",
    "        #drop all nan values in the data frame\n",
    "        discharge_dfs[i-1] = discharge_df.dropna(subset=['Maximum magnitude', 'Minimum magnitude'], how='all')\n",
    "    elif 'Maximum magntiude' in discharge_df.columns:\n",
    "        # If the column 'Maximum magntiude' is present, rename it to 'Maximum magnitude'\n",
    "        discharge_dfs[i-1] = discharge_df.rename(columns={'Maximum magntiude': 'Maximum magnitude'})\n",
    "        #drop all nan values in the data frame\n",
    "        discharge_dfs[i-1] = discharge_dfs[i-1].dropna(subset=['Minimum magnitude','Maximum magnitude'], how='all')\n",
    "\n",
    "result = pd.concat(discharge_dfs)\n",
    "result['Average recovery rate'] = (result['Maximum magnitude'] + result['Minimum magnitude']) / 2\n"
   ]
  },
  {
   "cell_type": "code",
   "execution_count": 15,
   "metadata": {},
   "outputs": [],
   "source": [
    "#combining all microdischarge events\n",
    "microdischarge_dfs = [MMB1, MMC1, MMI1, MMP1, MMB2, MMC2, MMI2, MMP2, MMB3, MMC3, MMI3, MMP3,\n",
    "                 MMB4, MMC4, MMI4, MMB5, MMC5, MMI5, MMP5, MMB6, MMC6, MMI6, MMP6, \n",
    "                 MMB7, MMC7, MMI7, MMP7, MMB8, MMC8, MMI8, MMP8, MMB9, MMC9, MMI9, MMP9,\n",
    "                 MMB10, MMC10, MMI10, MMP10, MMB11, MMC11, MMI11, MMP11, MMB12, MMC12, MMI12, MMP12]\n",
    "\n",
    "\n",
    "for i, microdischarge_df in enumerate(microdischarge_dfs, start=1):\n",
    "    # Check if the DataFrame contains the column 'Maximum magnitude'\n",
    "    if 'Maximum magnitude' in microdischarge_df.columns:\n",
    "        #drop all nan values in the data frame\n",
    "        microdischarge_dfs[i-1] = microdischarge_df.dropna(subset=['Maximum magnitude', 'Minimum magnitude'], how='all')\n",
    "    elif 'Maximum magntiude' in microdischarge_df.columns:\n",
    "        # If the column 'Maximum magntiude' is present, rename it to 'Maximum magnitude'\n",
    "        microdischarge_dfs[i-1] = microdischarge_df.rename(columns={'Maximum magntiude': 'Maximum magnitude'})\n",
    "        #drop all nan values in the data frame\n",
    "        microdischarge_dfs[i-1] = microdischarge_dfs[i-1].dropna(subset=['Minimum magnitude','Maximum magnitude'], how='all')\n",
    "\n",
    "\n",
    "    \n",
    "resultmicro = pd.concat(microdischarge_dfs)\n",
    "resultmicro['Uncertainty'] = (resultmicro['Maximum magnitude'] - resultmicro['Minimum magnitude']) / 2\n",
    "resultmicro['Average recovery rate'] = (resultmicro['Maximum magnitude'] + resultmicro['Minimum magnitude']) / 2\n"
   ]
  },
  {
   "cell_type": "code",
   "execution_count": 16,
   "metadata": {},
   "outputs": [],
   "source": [
    "tots =[resultmicro,result] #combining microdischarge events and discharge events \n",
    "\n",
    "total = pd.concat(tots)"
   ]
  },
  {
   "cell_type": "code",
   "execution_count": 17,
   "metadata": {},
   "outputs": [
    {
     "data": {
      "image/png": "[encoded data removed]",
      "text/plain": [
       "<Figure size 720x720 with 1 Axes>"
      ]
     },
     "metadata": {
      "needs_background": "light"
     },
     "output_type": "display_data"
    }
   ],
   "source": [
    "# Choose the column for which you want to create a histogram\n",
    "selected_column = 'Average recovery rate'  # Replace 'Your_Column_Name' with the actual column name\n",
    "\n",
    "# Create a histogram\n",
    "plt.figure(figsize=(10,10))\n",
    "plt.hist(total[selected_column], bins=100, color='blue', edgecolor='black')\n",
    "\n",
    "# Add labels and title\n",
    "plt.xlabel('Magnitude of discharge events (ADC)')\n",
    "plt.ylabel('Count')\n",
    "plt.title('Magnitude of all events')\n",
    "\n",
    "# Show the plot\n",
    "plt.show()"
   ]
  },
  {
   "cell_type": "code",
   "execution_count": 18,
   "metadata": {},
   "outputs": [
    {
     "data": {
      "image/png": "[encoded data removed]",
      "text/plain": [
       "<Figure size 720x720 with 1 Axes>"
      ]
     },
     "metadata": {
      "needs_background": "light"
     },
     "output_type": "display_data"
    }
   ],
   "source": [
    "# Choose the column for which you want to create a histogram\n",
    "selected_column = 'Average recovery rate'  # Replace 'Your_Column_Name' with the actual column name\n",
    "\n",
    "# Create a histogram\n",
    "plt.figure(figsize=(10,10))\n",
    "plt.hist(resultmicro[selected_column], bins=100, color='blue', edgecolor='black')\n",
    "\n",
    "# Add labels and title\n",
    "plt.xlabel('Magnitude of discharge events (ADC)')\n",
    "plt.ylabel('Count')\n",
    "plt.title('Magnitude of all microdischarge events')\n",
    "\n",
    "# Show the plot\n",
    "plt.show()"
   ]
  },
  {
   "cell_type": "code",
   "execution_count": 19,
   "metadata": {},
   "outputs": [
    {
     "data": {
      "image/png": "[encoded data removed]",
      "text/plain": [
       "<Figure size 720x720 with 1 Axes>"
      ]
     },
     "metadata": {
      "needs_background": "light"
     },
     "output_type": "display_data"
    }
   ],
   "source": [
    "\n",
    "selected_column = 'Average recovery rate'\n",
    "\n",
    "# Create a histogram\n",
    "plt.figure(figsize=(10,10))\n",
    "plt.hist(result[selected_column], bins=100, color='blue', edgecolor='black')\n",
    "\n",
    "# Add labels and title\n",
    "plt.xlabel('Magnitude of discharge events (ADC)')\n",
    "plt.ylabel('Count')\n",
    "plt.title('Magnitude of discharge events')\n",
    "\n",
    "# Show the plot\n",
    "plt.show()"
   ]
  },
  {
   "cell_type": "code",
   "execution_count": 35,
   "metadata": {},
   "outputs": [],
   "source": [
    "discharge_B = [MDB1,  MDB2,  MDB3, \n",
    "                 MDB4, MDB5,  MDB6,\n",
    "                 MDB7, MDB8,  MDB9, \n",
    "                 MDB10,  MDB11, MDB12]\n",
    "discharge_B= pd.concat(discharge_B)\n",
    "discharge_B['Average recovery rate'] = (discharge_B['Maximum magnitude'] + discharge_B['Minimum magnitude']) / 2\n",
    "discharge_P = [MDP1,  MDP2,  MDP3, \n",
    "                 MDP5,  MDP6,\n",
    "                 MDP7, MDP8,  MDP9, \n",
    "                 MDP10,  MDP11, MDP12]\n",
    "discharge_P= pd.concat(discharge_P)\n",
    "discharge_P['Average recovery rate'] = (discharge_P['Maximum magntiude'] + discharge_P['Minimum magnitude']) / 2\n",
    "discharge_I = [MDI1,  MDI2,  MDI3, \n",
    "                 MDI4, MDI5,  MDI6,\n",
    "                 MDI7, MDI8,  MDI9, \n",
    "                 MDI10,  MDI11, MDI12]\n",
    "discharge_I= pd.concat(discharge_I)\n",
    "discharge_I['Average recovery rate'] = (discharge_I['Maximum magntiude'] + discharge_I['Minimum magnitude']) / 2\n",
    "discharge_C = [MDC1,  MDC2,  MDC3, \n",
    "                 MDC4, MDC5,  MDC6,\n",
    "                 MDC7, MDC8,  MDC9, \n",
    "                 MDC10,  MDC11, MDC12]\n",
    "discharge_C= pd.concat(discharge_C)\n",
    "discharge_C['Average recovery rate'] = (discharge_C['Maximum magntiude'] + discharge_C['Minimum magnitude']) / 2"
   ]
  },
  {
   "cell_type": "code",
   "execution_count": 40,
   "metadata": {},
   "outputs": [
    {
     "name": "stdout",
     "output_type": "stream",
     "text": [
      "  Detector Name  Event  Minimum magnitude  Maximum magntiude  \\\n",
      "0     ch1081601    554             2949.0             3049.0   \n",
      "0     ch1081601   1225             3207.0             3307.0   \n",
      "0     ch1081601      6             4083.0             4183.0   \n",
      "1     ch1081601    703             4361.0             4461.0   \n",
      "0     ch1081601     84             3097.0             3197.0   \n",
      "1     ch1081601   1147             3222.0             3322.0   \n",
      "0     ch1081601    332             3330.0             3430.0   \n",
      "0     ch1081601    945             2919.0             3019.0   \n",
      "0     ch1081601     43             4355.0             4455.0   \n",
      "0     ch1081601   1191             3228.0             3328.0   \n",
      "0     ch1081601   1000             1831.0             1931.0   \n",
      "1     ch1081601   1177             4051.0             4151.0   \n",
      "0     ch1081601   1158             3697.0             3797.0   \n",
      "1     ch1081601   1375             4266.0             4366.0   \n",
      "0     ch1081601     15             3719.0             3819.0   \n",
      "\n",
      "   Average recovery rate  \n",
      "0                 2999.0  \n",
      "0                 3257.0  \n",
      "0                 4133.0  \n",
      "1                 4411.0  \n",
      "0                 3147.0  \n",
      "1                 3272.0  \n",
      "0                 3380.0  \n",
      "0                 2969.0  \n",
      "0                 4405.0  \n",
      "0                 3278.0  \n",
      "0                 1881.0  \n",
      "1                 4101.0  \n",
      "0                 3747.0  \n",
      "1                 4316.0  \n",
      "0                 3769.0  \n"
     ]
    }
   ],
   "source": [
    "print(discharge_P)"
   ]
  },
  {
   "cell_type": "code",
   "execution_count": 36,
   "metadata": {},
   "outputs": [
    {
     "data": {
      "image/png": "[encoded data removed]",
      "text/plain": [
       "<Figure size 720x720 with 1 Axes>"
      ]
     },
     "metadata": {
      "needs_background": "light"
     },
     "output_type": "display_data"
    }
   ],
   "source": [
    "# Choose the column for which you want to create a histogram\n",
    "selected_column = 'Average recovery rate'  # Replace 'Your_Column_Name' with the actual column name\n",
    "\n",
    "# Create a histogram\n",
    "plt.figure(figsize=(10,10))\n",
    "plt.hist(discharge_B[selected_column], bins=100, color='blue', edgecolor='black')\n",
    "\n",
    "# Add labels and title\n",
    "plt.xlabel('Magnitude of discharge events (ADC)')\n",
    "plt.ylabel('Count')\n",
    "plt.title('Magnitude of discharge events')\n",
    "\n",
    "# Show the plot\n",
    "plt.show()"
   ]
  },
  {
   "cell_type": "code",
   "execution_count": 37,
   "metadata": {},
   "outputs": [
    {
     "data": {
      "image/png": "[encoded data removed]",
      "text/plain": [
       "<Figure size 720x720 with 1 Axes>"
      ]
     },
     "metadata": {
      "needs_background": "light"
     },
     "output_type": "display_data"
    }
   ],
   "source": [
    "# Choose the column for which you want to create a histogram\n",
    "selected_column = 'Average recovery rate'  # Replace 'Your_Column_Name' with the actual column name\n",
    "\n",
    "# Create a histogram\n",
    "plt.figure(figsize=(10,10))\n",
    "plt.hist(discharge_I[selected_column], bins=100, color='blue', edgecolor='black')\n",
    "\n",
    "# Add labels and title\n",
    "plt.xlabel('Magnitude of discharge events (ADC)')\n",
    "plt.ylabel('Count')\n",
    "plt.title('Magnitude of discharge events')\n",
    "\n",
    "# Show the plot\n",
    "plt.show()"
   ]
  },
  {
   "cell_type": "code",
   "execution_count": 38,
   "metadata": {},
   "outputs": [
    {
     "data": {
      "image/png": "[encoded data removed]",
      "text/plain": [
       "<Figure size 720x720 with 1 Axes>"
      ]
     },
     "metadata": {
      "needs_background": "light"
     },
     "output_type": "display_data"
    }
   ],
   "source": [
    "# Choose the column for which you want to create a histogram\n",
    "selected_column = 'Average recovery rate'  # Replace 'Your_Column_Name' with the actual column name\n",
    "\n",
    "# Create a histogram\n",
    "plt.figure(figsize=(10,10))\n",
    "plt.hist(discharge_P[selected_column], bins=100, color='blue', edgecolor='black')\n",
    "\n",
    "# Add labels and title\n",
    "plt.xlabel('Magnitude of discharge events (ADC)')\n",
    "plt.ylabel('Count')\n",
    "plt.title('Magnitude of discharge events')\n",
    "\n",
    "# Show the plot\n",
    "plt.show()"
   ]
  },
  {
   "cell_type": "code",
   "execution_count": 53,
   "metadata": {},
   "outputs": [
    {
     "data": {
      "image/png": "[encoded data removed]",
      "text/plain": [
       "<Figure size 720x720 with 1 Axes>"
      ]
     },
     "metadata": {
      "needs_background": "light"
     },
     "output_type": "display_data"
    }
   ],
   "source": [
    "# Choose the column for which you want to create a histogram\n",
    "selected_column = 'Average recovery rate'  # Replace 'Your_Column_Name' with the actual column name\n",
    "\n",
    "# Create a histogram\n",
    "plt.figure(figsize=(10,10))\n",
    "plt.hist(discharge_C[selected_column], bins=10, color='blue', edgecolor='black')\n",
    "\n",
    "# Add labels and title\n",
    "plt.xlabel('Magnitude of discharge events (ADC)')\n",
    "plt.ylabel('Count')\n",
    "plt.title('Magnitude of discharge events')\n",
    "\n",
    "# Show the plot\n",
    "plt.show()"
   ]
  },
  {
   "cell_type": "code",
   "execution_count": null,
   "metadata": {},
   "outputs": [],
   "source": []
  }
 ],
 "metadata": {
  "kernelspec": {
   "display_name": "Python 3",
   "language": "python",
   "name": "python3"
  },
  "language_info": {
   "codemirror_mode": {
    "name": "ipython",
    "version": 3
   },
   "file_extension": ".py",
   "mimetype": "text/x-python",
   "name": "python",
   "nbconvert_exporter": "python",
   "pygments_lexer": "ipython3",
   "version": "3.8.5"
  }
 },
 "nbformat": 4,
 "nbformat_minor": 4
}
