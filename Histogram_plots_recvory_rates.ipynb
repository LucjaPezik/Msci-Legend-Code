{
 "cells": [
  {
   "cell_type": "code",
   "execution_count": 1,
   "metadata": {},
   "outputs": [],
   "source": [
    "import pandas as pd\n",
    "import matplotlib.pyplot as plt\n",
    "import numpy as np"
   ]
  },
  {
   "cell_type": "markdown",
   "metadata": {},
   "source": [
    "This notebook describes the data analysis for the recovery rates, for microdischarge events, discharge events and for detector specifics."
   ]
  },
  {
   "cell_type": "code",
   "execution_count": 2,
   "metadata": {},
   "outputs": [],
   "source": [
    "#importing data for different runs \n",
    "#discharge events\n",
    "df = pd.read_excel('discharge_bege.xlsx')\n",
    "df1 = pd.read_excel('discharge_coax1.xlsx')\n",
    "df2 = pd.read_excel('discharge_icpc1.xlsx')\n",
    "df3 = pd.read_excel('discharge_ppc.xlsx')\n",
    "#microdischarge events\n",
    "d = pd.read_excel('microdischarge_bege.xlsx')\n",
    "d1 = pd.read_excel('microdischarge_coax1.xlsx')\n",
    "d2 = pd.read_excel('microdischarge_icpc1.xlsx')\n",
    "d3 = pd.read_excel('microdischarge_ppc1.xlsx')\n",
    "\n",
    "#removing some wrongly kept data \n",
    "events_to_remove = [10, 24, 25] \n",
    "df = df.drop(index=events_to_remove, errors='ignore')\n",
    "\n",
    "events_to_remove = [18, 19, 20,25,26,27,28,29,30,31,36,38,39,40,41,42,43,44,45,46,48,50,51,53] \n",
    "d = d.drop(index=events_to_remove, errors='ignore')\n"
   ]
  },
  {
   "cell_type": "code",
   "execution_count": 3,
   "metadata": {},
   "outputs": [],
   "source": [
    "db1 = pd.read_excel('DBD1.xlsx')\n",
    "dc1 = pd.read_excel('DCD1.xlsx')\n",
    "di1 = pd.read_excel('DID1.xlsx')\n",
    "dp1 = pd.read_excel('DPD1.xlsx')\n",
    "\n",
    "mb1 = pd.read_excel('MBD1.xlsx')\n",
    "mc1= pd.read_excel('MCD1.xlsx')\n",
    "mi1= pd.read_excel('MID1.xlsx')\n",
    "mp1= pd.read_excel('MPD1.xlsx')\n",
    "\n",
    "#removing some wrongly kept data \n",
    "events_to_remove = [11, 13] \n",
    "dc1 = dc1.drop(index=events_to_remove, errors='ignore')"
   ]
  },
  {
   "cell_type": "code",
   "execution_count": 4,
   "metadata": {},
   "outputs": [],
   "source": [
    "#dictionary 3\n",
    "\n",
    "db2 = pd.read_excel('DBD2.xlsx')\n",
    "dc2 = pd.read_excel('DCD2.xlsx')\n",
    "di2 = pd.read_excel('DID2.xlsx')\n",
    "dp2 = pd.read_excel('DPD2.xlsx')\n",
    "\n",
    "mb2 = pd.read_excel('MBD2.xlsx')\n",
    "mc2= pd.read_excel('MCD2.xlsx')\n",
    "mi2= pd.read_excel('MID2.xlsx')\n",
    "mp2= pd.read_excel('MPD2.xlsx')\n",
    "\n",
    "#removing some wrongly kept data \n",
    "events_to_remove = [3] \n",
    "dc2 = dc2.drop(index=events_to_remove, errors='ignore')\n",
    "\n",
    "events_to_remove = [8] \n",
    "mi2= mi2.drop(index=events_to_remove, errors='ignore')"
   ]
  },
  {
   "cell_type": "code",
   "execution_count": 5,
   "metadata": {},
   "outputs": [],
   "source": [
    "#dictionary 4\n",
    "\n",
    "db3 = pd.read_excel('DBD3.xlsx')\n",
    "dc3 = pd.read_excel('DCD3.xlsx')\n",
    "di3 = pd.read_excel('DID3.xlsx')\n",
    "#p3 = pd.read_excel('DPD3.xlsx') #no events \n",
    "\n",
    "mb3 = pd.read_excel('MBD3.xlsx')\n",
    "mc3= pd.read_excel('MCD3.xlsx')\n",
    "mi3= pd.read_excel('MID3.xlsx')\n",
    "mp3= pd.read_excel('MPD3.xlsx')"
   ]
  },
  {
   "cell_type": "code",
   "execution_count": 6,
   "metadata": {},
   "outputs": [],
   "source": [
    "#dictionary 4\n",
    "\n",
    "db4 = pd.read_excel('DBD4.xlsx')\n",
    "dc4 = pd.read_excel('DCD4.xlsx')\n",
    "di4 = pd.read_excel('DID4.xlsx')\n",
    "dp4 = pd.read_excel('DPD4.xlsx')\n",
    "\n",
    "mb4 = pd.read_excel('MBD4.xlsx')\n",
    "mc4= pd.read_excel('MCD4.xlsx')\n",
    "mi4= pd.read_excel('MID4.xlsx')\n",
    "mp4= pd.read_excel('MPD4.xlsx')"
   ]
  },
  {
   "cell_type": "code",
   "execution_count": 7,
   "metadata": {},
   "outputs": [],
   "source": [
    "#dictionary 5 \n",
    "\n",
    "db5 = pd.read_excel('DBD5.xlsx')\n",
    "dc5 = pd.read_excel('DCD5.xlsx')\n",
    "di5 = pd.read_excel('DID5.xlsx')\n",
    "dp5 = pd.read_excel('DPD5.xlsx')\n",
    "\n",
    "mb5 = pd.read_excel('MBD5.xlsx')\n",
    "mc5= pd.read_excel('MCD5.xlsx')\n",
    "mi5= pd.read_excel('MID5.xlsx')\n",
    "mp5= pd.read_excel('MPD5.xlsx')\n",
    "\n",
    "#removing some wrongly kept data \n",
    "events_to_remove = [17] \n",
    "di5= di5.drop(index=events_to_remove, errors='ignore')\n"
   ]
  },
  {
   "cell_type": "code",
   "execution_count": 8,
   "metadata": {},
   "outputs": [],
   "source": [
    "#dictionary 6\n",
    "\n",
    "db6 = pd.read_excel('DBD6.xlsx')\n",
    "dc6 = pd.read_excel('DCD6.xlsx')\n",
    "di6 = pd.read_excel('DID6.xlsx')\n",
    "dp6 = pd.read_excel('DPD6.xlsx')\n",
    "\n",
    "mb6 = pd.read_excel('MBD6.xlsx')\n",
    "mc6= pd.read_excel('MCD6.xlsx')\n",
    "mi6= pd.read_excel('MID6.xlsx')\n",
    "mp6= pd.read_excel('MPD6.xlsx')\n",
    "\n",
    "#removing some wrongly kept data \n",
    "events_to_remove = [20] \n",
    "db6= db6.drop(index=events_to_remove, errors='ignore')\n",
    "\n",
    "events_to_remove = [14] \n",
    "dc6= dc6.drop(index=events_to_remove, errors='ignore')"
   ]
  },
  {
   "cell_type": "code",
   "execution_count": 9,
   "metadata": {},
   "outputs": [],
   "source": [
    "#dictionary 7 \n",
    "\n",
    "db7 = pd.read_excel('DBD7.xlsx')\n",
    "dc7 = pd.read_excel('DCD7.xlsx')\n",
    "di7 = pd.read_excel('DID7.xlsx')\n",
    "dp7 = pd.read_excel('DPD7.xlsx')\n",
    "\n",
    "mb7 = pd.read_excel('MBD7.xlsx')\n",
    "mc7= pd.read_excel('MCD7.xlsx')\n",
    "mi7= pd.read_excel('MID7.xlsx')\n",
    "mp7= pd.read_excel('MPD7.xlsx')"
   ]
  },
  {
   "cell_type": "code",
   "execution_count": 10,
   "metadata": {},
   "outputs": [],
   "source": [
    "#dictionary 8\n",
    "\n",
    "db8 = pd.read_excel('DBD8.xlsx')\n",
    "dc8 = pd.read_excel('DCD8.xlsx')\n",
    "di8 = pd.read_excel('DID8.xlsx')\n",
    "dp8 = pd.read_excel('DPD8.xlsx')\n",
    "\n",
    "mb8 = pd.read_excel('MBD8.xlsx')\n",
    "mc8= pd.read_excel('MCD8.xlsx')\n",
    "mi8= pd.read_excel('MID8.xlsx')\n",
    "mp8= pd.read_excel('MPD8.xlsx')"
   ]
  },
  {
   "cell_type": "code",
   "execution_count": 11,
   "metadata": {},
   "outputs": [],
   "source": [
    "#dictionary 9\n",
    "\n",
    "db9 = pd.read_excel('DBD9.xlsx')\n",
    "dc9 = pd.read_excel('DCD9.xlsx')\n",
    "di9 = pd.read_excel('DID9.xlsx')\n",
    "dp9 = pd.read_excel('DPD9.xlsx')\n",
    "\n",
    "mb9 = pd.read_excel('MBD9.xlsx')\n",
    "#mc9= pd.read_excel('MCD9.xlsx') #no microdischarge events\n",
    "mi9= pd.read_excel('MID9.xlsx')\n",
    "mp9= pd.read_excel('MPD9.xlsx')\n",
    "\n",
    "\n",
    "#removing some wrongly kept data \n",
    "events_to_remove = [9] \n",
    "mb9= mb9.drop(index=events_to_remove, errors='ignore')"
   ]
  },
  {
   "cell_type": "code",
   "execution_count": 12,
   "metadata": {},
   "outputs": [],
   "source": [
    "#dictionary 10 \n",
    "\n",
    "db10 = pd.read_excel('DBD10.xlsx')\n",
    "dc10 = pd.read_excel('DCD10.xlsx')\n",
    "di10 = pd.read_excel('DID10.xlsx')\n",
    "dp10 = pd.read_excel('DPD10.xlsx')\n",
    "\n",
    "mb10 = pd.read_excel('MBD10.xlsx')\n",
    "mc10= pd.read_excel('MCD10.xlsx')\n",
    "mi10= pd.read_excel('MID10.xlsx')\n",
    "mp10= pd.read_excel('MPD10.xlsx')"
   ]
  },
  {
   "cell_type": "code",
   "execution_count": 13,
   "metadata": {},
   "outputs": [],
   "source": [
    "#dictionary 11\n",
    "\n",
    "db11= pd.read_excel('DBD11.xlsx')\n",
    "dc11 = pd.read_excel('DCD11.xlsx')\n",
    "di11 = pd.read_excel('DID11.xlsx')\n",
    "dp11 = pd.read_excel('DPD11.xlsx')\n",
    "\n",
    "mb11= pd.read_excel('MBD11.xlsx')\n",
    "mc11= pd.read_excel('MCD11.xlsx')\n",
    "mi11= pd.read_excel('MID11.xlsx')\n",
    "mp11= pd.read_excel('MPD11.xlsx')\n"
   ]
  },
  {
   "cell_type": "code",
   "execution_count": 14,
   "metadata": {},
   "outputs": [],
   "source": [
    "\n",
    "# combining data frames for discharge events \n",
    "all_discharge = pd.concat([df, df1, df2, df3], ignore_index=True)\n",
    "all_discharge1 = pd.concat([db1,dc1,di1, dp1], ignore_index=True)\n",
    "all_discharge2 = pd.concat([db2,dc2,di2, dp2], ignore_index=True)\n",
    "all_discharge3 = pd.concat([db3,dc3,di3], ignore_index=True)\n",
    "all_discharge4 = pd.concat([db4,dc4,di4, dp4], ignore_index=True)\n",
    "all_discharge5 = pd.concat([db5,dc5,di5, dp5], ignore_index=True)\n",
    "all_discharge6 = pd.concat([db6,dc6,di6, dp6], ignore_index=True)\n",
    "all_discharge7 = pd.concat([db7,dc7,di7, dp7], ignore_index=True)\n",
    "all_discharge8= pd.concat([db8,dc8,di8, dp8], ignore_index=True)\n",
    "all_discharge9 = pd.concat([db9,dc9,di9, dp9], ignore_index=True)\n",
    "all_discharge10 = pd.concat([db10,dc10,di10, dp10], ignore_index=True)\n",
    "all_discharge11 = pd.concat([db11,dc11,di11, dp11], ignore_index=True)\n",
    "\n",
    "# combining data frames for microdischarge events \n",
    "all_microdischarge = pd.concat([d, d1, d2, d3], ignore_index=True)\n",
    "all_microdischarge1 = pd.concat([mb1,mc1,mi1,mp1], ignore_index=True)\n",
    "all_microdischarge2 = pd.concat([mb2,mc2,mi2,mp2], ignore_index=True)\n",
    "all_microdischarge3 = pd.concat([mb3,mc3,mi3,mp3], ignore_index=True)\n",
    "all_microdischarge4 = pd.concat([mb4,mc4,mi4,mp4], ignore_index=True)\n",
    "all_microdischarge5 = pd.concat([mb5,mc5,mi5,mp5], ignore_index=True)\n",
    "all_microdischarge6 = pd.concat([mb6,mc6,mi6,mp6], ignore_index=True)\n",
    "all_microdischarge7 = pd.concat([mb7,mc7,mi7,mp7], ignore_index=True)\n",
    "all_microdischarge8 = pd.concat([mb8,mc8,mi8,mp8], ignore_index=True)\n",
    "all_microdischarge9 = pd.concat([mb9,mi9,mp9], ignore_index=True)\n",
    "all_microdischarge10 = pd.concat([mb10,mc10,mi10,mp10], ignore_index=True)\n",
    "all_microdischarge11 = pd.concat([mb11,mc11,mi11,mp11], ignore_index=True)\n"
   ]
  },
  {
   "cell_type": "code",
   "execution_count": 15,
   "metadata": {},
   "outputs": [],
   "source": [
    "#combining discharge events\n",
    "all_dict_discharge = pd.concat([all_discharge,all_discharge1,all_discharge2,all_discharge3,all_discharge4,all_discharge5,all_discharge6,all_discharge7,all_discharge8,all_discharge9,all_discharge10,all_discharge11], ignore_index=True)\n",
    "\n",
    "#combining events for each detector type\n",
    "all_bege_discharge = pd.concat([df, db1, db2, db3,db4,db5,db6,db7,db8,db9,db10,db11], ignore_index=True)\n",
    "all_coax_discharge = pd.concat([df1, dc1, dc2, dc3,dc4,dc5,dc6,dc7,dc8,dc9,dc10,dc11], ignore_index=True)\n",
    "all_icpc_discharge = pd.concat([df2, di1, di2, di3,di4,di5,di6,di7,di8,di9,di10,di11], ignore_index=True)\n",
    "all_ppc_discharge = pd.concat([df3, dp1, dp2,dp4,dp5,dp6,dp7,dp8,dp9,dp10,dp11], ignore_index=True)\n",
    "#combining microdisahcrge events\n",
    "all_dict_microdischarge = pd.concat([all_microdischarge,all_microdischarge1,all_microdischarge2,all_microdischarge3,all_microdischarge4,all_microdischarge5,all_microdischarge6,all_microdischarge7,all_microdischarge8,all_microdischarge9,all_microdischarge10,all_microdischarge11], ignore_index=True)\n",
    "\n",
    "\n",
    "# Remove rows where both \"Recovery Rate\" and \"Recovery Rate 2\" are NaN\n",
    "all_dict_microdischarge = all_dict_microdischarge.dropna(subset=['Recovery Rate', 'Recovery Rate 2'], how='all')\n",
    "\n",
    "#combines the two recovery rates to have one column \n",
    "all_dict_discharge['Combined_Column1'] = all_dict_discharge['Recovery Rate'].combine_first(all_dict_discharge['Recovery Rate 2'])\n",
    "all_dict_microdischarge['Combined_Column1'] = all_dict_microdischarge['Recovery Rate'].combine_first(all_dict_microdischarge['Recovery Rate 2'])\n",
    "all_icpc_discharge['Combined_Column1']=all_icpc_discharge['Recovery Rate'].combine_first(all_icpc_discharge['Recovery Rate 2'])\n",
    "\n",
    "#combines all discharge and microdischarge events \n",
    "all_events1 = pd.concat([all_dict_discharge,all_dict_microdischarge],ignore_index = True)\n"
   ]
  },
  {
   "cell_type": "code",
   "execution_count": 16,
   "metadata": {},
   "outputs": [],
   "source": [
    "def mean_error(dictionary):\n",
    "    \"\"\" Error in the mean of the recovery rate for a specific data.\n",
    "    dictionary - the data for which you want to calculate the mean and error \n",
    "    \"\"\"\n",
    "    mean_rec_rate =dictionary['Combined_Column1'].mean() #mean of the recovery rate table for a specific dictionary \n",
    "    sums = dictionary['Combined_Column1'].sum() #sum of the recovery rate \n",
    "    std_rec_rate =dictionary['Combined_Column1'].std() #standard deviation of the recovery rate \n",
    "    no_vals = sums/mean_rec_rate #number of recovery rates \n",
    "    error_mean = std_rec_rate/np.sqrt(no_vals) #error in the mean \n",
    "    \n",
    "    print(f\"The mean is {mean_rec_rate} with an error ± {error_mean}\")"
   ]
  },
  {
   "cell_type": "code",
   "execution_count": 17,
   "metadata": {},
   "outputs": [
    {
     "name": "stdout",
     "output_type": "stream",
     "text": [
      "The mean is 5252.549999999998 with an error ± 19.363428490919155\n",
      "The mean is 2842.5396733909665 with an error ± 32.372290258475665\n"
     ]
    }
   ],
   "source": [
    "mean_error(all_dict_discharge)\n",
    "mean_error(all_dict_microdischarge)"
   ]
  },
  {
   "cell_type": "code",
   "execution_count": 18,
   "metadata": {},
   "outputs": [
    {
     "data": {
      "image/png": "[encoded data removed]",
      "text/plain": [
       "<Figure size 720x720 with 1 Axes>"
      ]
     },
     "metadata": {
      "needs_background": "light"
     },
     "output_type": "display_data"
    }
   ],
   "source": [
    "\n",
    "selected_column = 'Combined_Column1' \n",
    "\n",
    "plt.figure(figsize=(10,10))\n",
    "plt.hist(all_dict_discharge[selected_column], bins=10, color='blue', edgecolor='black')\n",
    "\n",
    "plt.xlabel('Recovery rate $\\mu s$')\n",
    "plt.ylabel('Count')\n",
    "plt.title('Recovery rates of discharge events')\n",
    "plt.show()"
   ]
  },
  {
   "cell_type": "code",
   "execution_count": 19,
   "metadata": {},
   "outputs": [
    {
     "data": {
      "image/png": "[encoded data removed]",
      "text/plain": [
       "<Figure size 720x720 with 1 Axes>"
      ]
     },
     "metadata": {
      "needs_background": "light"
     },
     "output_type": "display_data"
    }
   ],
   "source": [
    "selected_column = 'Combined_Column1'\n",
    "\n",
    "plt.figure(figsize=(10,10))\n",
    "plt.hist(all_dict_microdischarge[selected_column], bins=10, color='blue', edgecolor='black')\n",
    "plt.xlabel('Recovery rate $\\mu s$')\n",
    "plt.ylabel('Count')\n",
    "plt.title('Recovery rates of microdischarge events')\n",
    "plt.show()"
   ]
  },
  {
   "cell_type": "code",
   "execution_count": 20,
   "metadata": {},
   "outputs": [
    {
     "data": {
      "image/png": "[encoded data removed]",
      "text/plain": [
       "<Figure size 720x720 with 1 Axes>"
      ]
     },
     "metadata": {
      "needs_background": "light"
     },
     "output_type": "display_data"
    }
   ],
   "source": [
    "selected_column = 'Combined_Column1' \n",
    "\n",
    "plt.figure(figsize=(10,10))\n",
    "plt.hist(all_events1[selected_column], bins=100, color='blue', edgecolor='black')\n",
    "plt.xlabel('Recovery rate $\\mu s$')\n",
    "plt.ylabel('Count')\n",
    "plt.title('Recovery rates of all events')\n",
    "plt.show()"
   ]
  },
  {
   "cell_type": "code",
   "execution_count": 21,
   "metadata": {},
   "outputs": [
    {
     "data": {
      "image/png": "[encoded data removed]",
      "text/plain": [
       "<Figure size 720x720 with 1 Axes>"
      ]
     },
     "metadata": {
      "needs_background": "light"
     },
     "output_type": "display_data"
    }
   ],
   "source": [
    "selected_column = 'Combined_Column1' \n",
    "\n",
    "plt.figure(figsize=(10,10))\n",
    "plt.hist(all_icpc_discharge[selected_column], bins=100, color='blue', edgecolor='black')\n",
    "plt.xlabel('Recovery rate $\\mu s$')\n",
    "plt.ylabel('Count')\n",
    "plt.title('Recovery rate of all events')\n",
    "plt.show()"
   ]
  },
  {
   "cell_type": "code",
   "execution_count": 24,
   "metadata": {},
   "outputs": [
    {
     "data": {
      "image/png": "[encoded data removed]",
      "text/plain": [
       "<Figure size 720x720 with 1 Axes>"
      ]
     },
     "metadata": {
      "needs_background": "light"
     },
     "output_type": "display_data"
    }
   ],
   "source": [
    "selected_column = 'Recovery Rate' \n",
    "\n",
    "plt.figure(figsize=(10,10))\n",
    "plt.hist(all_bege_discharge[selected_column], bins=100, color='blue', edgecolor='black')\n",
    "plt.xlabel('Recovery rate $\\mu s$')\n",
    "plt.ylabel('Count')\n",
    "plt.title('Recovery rate of all events')\n",
    "plt.show()"
   ]
  },
  {
   "cell_type": "code",
   "execution_count": 25,
   "metadata": {},
   "outputs": [
    {
     "data": {
      "image/png": "[encoded data removed]",
      "text/plain": [
       "<Figure size 720x720 with 1 Axes>"
      ]
     },
     "metadata": {
      "needs_background": "light"
     },
     "output_type": "display_data"
    }
   ],
   "source": [
    "selected_column = 'Recovery Rate' \n",
    "\n",
    "plt.figure(figsize=(10,10))\n",
    "plt.hist(all_ppc_discharge[selected_column], bins=100, color='blue', edgecolor='black')\n",
    "plt.xlabel('Recovery rate $\\mu s$')\n",
    "plt.ylabel('Count')\n",
    "plt.title('Recovery rate of all events')\n",
    "plt.show()"
   ]
  },
  {
   "cell_type": "code",
   "execution_count": 26,
   "metadata": {},
   "outputs": [
    {
     "data": {
      "image/png": "[encoded data removed]",
      "text/plain": [
       "<Figure size 720x720 with 1 Axes>"
      ]
     },
     "metadata": {
      "needs_background": "light"
     },
     "output_type": "display_data"
    }
   ],
   "source": [
    "selected_column = 'Recovery Rate' \n",
    "\n",
    "plt.figure(figsize=(10,10))\n",
    "plt.hist(all_coax_discharge[selected_column], bins=100, color='blue', edgecolor='black')\n",
    "plt.xlabel('Recovery rate $\\mu s$')\n",
    "plt.ylabel('Count')\n",
    "plt.title('Recovery rate of all events')\n",
    "plt.show()"
   ]
  },
  {
   "cell_type": "code",
   "execution_count": null,
   "metadata": {},
   "outputs": [],
   "source": []
  }
 ],
 "metadata": {
  "kernelspec": {
   "display_name": "Python 3",
   "language": "python",
   "name": "python3"
  },
  "language_info": {
   "codemirror_mode": {
    "name": "ipython",
    "version": 3
   },
   "file_extension": ".py",
   "mimetype": "text/x-python",
   "name": "python",
   "nbconvert_exporter": "python",
   "pygments_lexer": "ipython3",
   "version": "3.8.5"
  }
 },
 "nbformat": 4,
 "nbformat_minor": 4
}
