{
 "cells": [
  {
   "cell_type": "code",
   "execution_count": 1,
   "metadata": {},
   "outputs": [],
   "source": [
    "import pygama\n",
    "import pygama.lh5 as lh5\n",
    "import matplotlib.pyplot as plt\n",
    "import numpy as np\n",
    "import h5py\n",
    "from pygama.dsp.processors import pole_zero\n",
    "plt.rcParams['figure.figsize'] = [10, 10]\n",
    "import json\n",
    "from scipy.stats import zscore\n",
    "from scipy.optimize import curve_fit"
   ]
  },
  {
   "cell_type": "code",
   "execution_count": 2,
   "metadata": {},
   "outputs": [],
   "source": [
    "new_raw = f'/unix/legend/wquinn/discharges/raw_files/ '\n",
    "sto = lh5.Store() # we require this to read \n",
    "fw_new1=f'/unix/legend/wquinn/discharges/raw_files/l200-p06-r007-tst-20230726T000810Z_tier_raw.lh5'"
   ]
  },
  {
   "cell_type": "code",
   "execution_count": 3,
   "metadata": {},
   "outputs": [],
   "source": [
    "f = open('channel_maps.json','r')\n",
    "cmap = json.load(f)"
   ]
  },
  {
   "cell_type": "code",
   "execution_count": 4,
   "metadata": {},
   "outputs": [],
   "source": [
    "targets = [\"bege\",\"ppc\",\"icpc\",\"coax\"]\n",
    "matching_targets=[]\n",
    "for i in targets:\n",
    "    matching_bege = [key for key, value in cmap.items() if \"type\" in value and value[\"type\"] == i]\n",
    "    matching_targets.append(matching_bege)"
   ]
  },
  {
   "cell_type": "code",
   "execution_count": 5,
   "metadata": {},
   "outputs": [],
   "source": [
    "# Character to add\n",
    "ch = \"ch\"\n",
    "\n",
    "# Use list comprehension to add ch to each element in the array\n",
    "all_detectors = [ch + element for sublist in matching_targets for element in sublist]"
   ]
  },
  {
   "cell_type": "code",
   "execution_count": 6,
   "metadata": {},
   "outputs": [],
   "source": [
    "detectors_bege = ['ch1110402', 'ch1110402', 'ch1110402', 'ch1110403', 'ch1110403', \n",
    "                         'ch1113600', 'ch1113600', 'ch1113600', 'ch1113600', 'ch1113600', \n",
    "                         'ch1113600', 'ch1113600', 'ch1113601', 'ch1113601', 'ch1113601',\n",
    "                         'ch1113601', 'ch1113601', 'ch1113601', 'ch1113602', 'ch1113602', \n",
    "                         'ch1113602', 'ch1113602', 'ch1113602', 'ch1113602', 'ch1113603', \n",
    "                         'ch1113603', 'ch1113604', 'ch1113604', 'ch1120003', 'ch1120003', \n",
    "                         'ch1120003', 'ch1120003', 'ch1120003', 'ch1120003', 'ch1120003', \n",
    "                         'ch1120003', 'ch1120003', 'ch1120003', 'ch1120004', 'ch1120004',\n",
    "                         'ch1120004', 'ch1120004', 'ch1080000', 'ch1080000', 'ch1080000',\n",
    "                         'ch1080000', 'ch1080001', 'ch1080001', 'ch1080001', 'ch1083201', \n",
    "                         'ch1083201', 'ch1083201', 'ch1083201', 'ch1083201', 'ch1083201',\n",
    "                         'ch1083201', 'ch1083202', 'ch1083202', 'ch1083202', 'ch1083202',\n",
    "                         'ch1083203', 'ch1083203', 'ch1083203', 'ch1083203', 'ch1083203', \n",
    "                         'ch1083203', 'ch1083204', 'ch1083204', 'ch1083204', 'ch1083205', \n",
    "                         'ch1083205', 'ch1083205', 'ch1083205', 'ch1084800', 'ch1084800', \n",
    "                         'ch1084800', 'ch1084800', 'ch1084800', 'ch1084801', 'ch1084801', \n",
    "                         'ch1084801', 'ch1084801', 'ch1084801', 'ch1084802', 'ch1084802', \n",
    "                         'ch1086405','ch1104000', 'ch1104000', 'ch1104000', 'ch1104000', \n",
    "                         'ch1104001', 'ch1104001', 'ch1104001', 'ch1104001', 'ch1104002', \n",
    "                         'ch1104003', 'ch1104003', 'ch1104003', 'ch1104004', 'ch1105600', \n",
    "                         'ch1105600', 'ch1105602', 'ch1105602', 'ch1108802', 'ch1108802', \n",
    "                         'ch1108803', 'ch1115201', 'ch1115201', 'ch1115202', 'ch1115202', \n",
    "                         'ch1115202', 'ch1115202', 'ch1115202', 'ch1115202', 'ch1115202', \n",
    "                         'ch1115202', 'ch1115202', 'ch1115202', 'ch1115202', 'ch1115202', \n",
    "                         'ch1116801', 'ch1116801', 'ch1116801', 'ch1116803', 'ch1116803',\n",
    "                         'ch1116803', 'ch1116803', 'ch1116803', 'ch1116803', 'ch1116803', \n",
    "                         'ch1116804', 'ch1116804', 'ch1116804', 'ch1116804', 'ch1116804', \n",
    "                         'ch1116804', 'ch1116804', 'ch1116804', 'ch1116804', 'ch1116804',\n",
    "                         'ch1116804', 'ch1116804', 'ch1116805', 'ch1116805', 'ch1118402', \n",
    "                         'ch1118402', 'ch1118402', 'ch1118402', 'ch1118402', 'ch1118402', \n",
    "                         'ch1118402', 'ch1118402', 'ch1118403', 'ch1118403', 'ch1118403', \n",
    "                         'ch1118403', 'ch1118404', 'ch1118404', 'ch1118404', 'ch1118404', \n",
    "                         'ch1120000', 'ch1120000', 'ch1120000', 'ch1120000', 'ch1120000', \n",
    "                         'ch1120000', 'ch1120000', 'ch1120000', 'ch1120000', 'ch1120001',\n",
    "                         'ch1120001', 'ch1120001', 'ch1120001', 'ch1120001', 'ch1120001', \n",
    "                         'ch1120001', 'ch1120001', 'ch1120001', 'ch1120001', 'ch1120002',\n",
    "                         'ch1120002', 'ch1120002', 'ch1121600', 'ch1121600', 'ch1121600',\n",
    "                         'ch1121600', 'ch1121600', 'ch1121600', 'ch1121600', 'ch1121600', \n",
    "                         'ch1121600', 'ch1121601', 'ch1121601', 'ch1121601', 'ch1121601', \n",
    "                         'ch1121602', 'ch1121602', 'ch1121602', 'ch1121604', 'ch1121605', \n",
    "                         'ch1121605', 'ch1084803', 'ch1084803', 'ch1084805', 'ch1084805',\n",
    "                         'ch1086400', 'ch1086400', 'ch1086400', 'ch1086400', 'ch1086400', \n",
    "                         'ch1086400', 'ch1086401', 'ch1086401', 'ch1086401', 'ch1086401', \n",
    "                         'ch1086401', 'ch1086401', 'ch1086401','ch1080005', 'ch1081601', \n",
    "                         'ch1081601', 'ch1081601', 'ch1081603', 'ch1081604', 'ch1081604',\n",
    "                         'ch1089600', 'ch1089600', 'ch1089600', 'ch1089600', 'ch1089600',\n",
    "                         'ch1107204', 'ch1107204', 'ch1107204', 'ch1107204', 'ch1107204', \n",
    "                         'ch1107204', 'ch1107204', 'ch1107204', 'ch1107204', 'ch1107204', \n",
    "                         'ch1107204', 'ch1107205', 'ch1107205', 'ch1107205', 'ch1107205', \n",
    "                         'ch1107205', 'ch1107205', 'ch1107205', 'ch1107205', 'ch1107205', \n",
    "                         'ch1107205', 'ch1107205', 'ch1107205', 'ch1107205', 'ch1107205', \n",
    "                         'ch1107205', 'ch1108801', 'ch1120005', 'ch1120005']"
   ]
  },
  {
   "cell_type": "code",
   "execution_count": 7,
   "metadata": {},
   "outputs": [],
   "source": [
    "tb_data_dict = {}  # Dictionary to store tb_data for each detector\n",
    "wfs_all_dict = {}  # Dictionary to store wfs_all for each detector\n",
    "\n",
    "for j in detectors_bege:\n",
    "    tb_data_dict[j] = sto.read_object(f'/{j}/raw', fw_new1)[0]\n",
    "    wfs_all_dict[j] = tb_data_dict[j]['waveform']['values'].nda"
   ]
  },
  {
   "cell_type": "code",
   "execution_count": 8,
   "metadata": {},
   "outputs": [],
   "source": [
    "tb_data_all = {}  # Dictionary to store tb_data for each detector\n",
    "wfs_all_all = {}  # Dictionary to store wfs_all for each detector\n",
    "\n",
    "for j in all_detectors:\n",
    "    tb_data_all[j] = sto.read_object(f'/{j}/raw', fw_new1)[0]\n",
    "    wfs_all_all[j] = tb_data_all[j]['waveform']['values'].nda"
   ]
  },
  {
   "cell_type": "code",
   "execution_count": 9,
   "metadata": {},
   "outputs": [],
   "source": [
    "skipped_index1=[1130, 1177, 1361, 51, 393, 37, 88, 130, 467, 827, 962, 1317, 37, 88, 130,\n",
    "                467, 858, 962, 139, 858, 978, 1265, 1272, 1292, 139, 978, 514, 1161, 62, \n",
    "                210, 456, 478, 532, 546, 672, 982, 1200, 1405, 389, 397, 761, 1227, 494,\n",
    "                501, 1097, 1303, 494, 1097, 1303, 448, 506, 906, 474, 506, 1160, 1402, 32,\n",
    "                437, 573, 1160, 1224, 1402, 437, 474, 1224, 408, 474, 506, 1313, 408, 444, \n",
    "                474, 481, 1129, 444, 474, 481, 791, 1129, 474, 495, 163,764,50, 111, 274,\n",
    "                345, 464, 594, 782, 811, 945, 989, 990, 1025, 1135, 1174, 1332,643,181, \n",
    "                452,77, 179, 725, 908,77, 725, 908, 925,1338,464, 1043, 1338,165,302,\n",
    "                855,117, 165,643, 672,918,20, 32, 710,120, 143, 495, 774, 943, 1189,\n",
    "                1270,52, 137, 247, 353, 400, 628, 676, 718, 733, 1126, 1131, 1180,\n",
    "                474, 995,261, 279, 283, 400, 690, 852, 996, 1292,261, 283, 852, 1327,\n",
    "                136, 169, 659, 1325,47, 324, 501, 954, 1000, 1085, 1096, 1107, 1342,\n",
    "                41, 47, 324, 433, 501, 954, 1096, 1107, 1336, 1342,799, 1096, 1151,59,\n",
    "                436, 499, 562, 675, 789, 909, 1009, 1099,240, 931, 1234, 1363,931, \n",
    "                1234, 1363,885,757, 885,474, 495,474, 625,103, 205, 474, 629, 707, \n",
    "                1093,194, 340, 474, 515, 707, 722, 1093,554,162, 554, 1242,474]"
   ]
  },
  {
   "cell_type": "code",
   "execution_count": 10,
   "metadata": {},
   "outputs": [],
   "source": [
    "skipped_waveforms = {'ch1110402': [1130, 1177, 1361],\n",
    "                     'ch1110403': [51, 393], \n",
    "                     'ch1113600': [37, 88, 130, 467, 827, 962, 1317],\n",
    "                     'ch1113601': [37, 88, 130, 467, 858, 962],\n",
    "                     'ch1113602': [139, 858, 978, 1265, 1272, 1292],\n",
    "                     'ch1113603': [139, 978],\n",
    "                     'ch1113604': [514, 1161], \n",
    "                     'ch1120003': [62, 210, 456, 478, 532, 546, 672, 982, 1200, 1405], \n",
    "                     'ch1120004': [389, 397, 761, 1227],\n",
    "                     'ch1080000': [494, 501, 1097, 1303],\n",
    "                     'ch1080001': [494, 1097, 1303],\n",
    "                     'ch1083201': [85, 430, 448, 506, 850, 906, 1094],\n",
    "                     'ch1083202': [474, 506, 1160, 1402], \n",
    "                     'ch1083203': [32, 437, 573, 1160, 1224, 1402],\n",
    "                     'ch1083204': [437, 474, 1224], \n",
    "                     'ch1083205': [408, 474, 506, 1313],\n",
    "                     'ch1084800': [408, 444, 474, 481, 1129], \n",
    "                     'ch1084801': [444, 474, 481, 791, 1129],\n",
    "                     'ch1084802': [474, 495],\n",
    "                     'ch1086405': [163],\n",
    "                     'ch1104000': [77, 179, 725, 908],\n",
    "                     'ch1104001': [77, 725, 908, 925], \n",
    "                     'ch1104002': [1338], \n",
    "                     'ch1104003': [464, 1043, 1338],\n",
    "                     'ch1104004': [165],\n",
    "                     'ch1105600': [302, 855],\n",
    "                     'ch1105602': [117, 165], \n",
    "                     'ch1108802': [643, 672], \n",
    "                     'ch1108803': [918], \n",
    "                     'ch1115201': [233, 1329],\n",
    "                     'ch1115202': [5, 60, 90, 151, 180, 215, 270, 281, 289, 829, 944, 1329], \n",
    "                     'ch1116801': [20, 32, 710], \n",
    "                     'ch1116803': [120, 143, 495, 774, 943, 1189, 1270],\n",
    "                     'ch1116804': [52, 137, 247, 353, 400, 628, 676, 718, 733, 1126, 1131, 1180],\n",
    "                     'ch1116805': [474, 995],\n",
    "                     'ch1118402': [261, 279, 283, 400, 690, 852, 996, 1292], \n",
    "                     'ch1118403': [261, 283, 852, 1327], \n",
    "                     'ch1118404': [136, 169, 659, 1325],\n",
    "                     'ch1120000': [47, 324, 501, 954, 1000, 1085, 1096, 1107, 1342],\n",
    "                     'ch1120001': [41, 47, 324, 433, 501, 954, 1096, 1107, 1336, 1342], \n",
    "                     'ch1120002': [799, 1096, 1151], \n",
    "                     'ch1121600': [59, 436, 499, 562, 675, 789, 909, 1009, 1099],\n",
    "                     'ch1121601': [240, 931, 1234, 1363],\n",
    "                     'ch1121602': [931, 1234, 1363], \n",
    "                     'ch1121604': [885],\n",
    "                     'ch1121605': [757, 885], \n",
    "                     'ch1084803': [474, 495],\n",
    "                     'ch1084805': [474, 625], \n",
    "                     'ch1086400': [103, 205, 474, 629, 707, 1093],\n",
    "                     'ch1086401': [194, 340, 474, 515, 707, 722, 1093],\n",
    "                     'ch1080005': [554], \n",
    "                     'ch1081601': [162, 554, 1242], \n",
    "                     'ch1081603': [474], \n",
    "                     'ch1081604': [51, 474],\n",
    "                     'ch1089600': [119, 280, 330, 351, 573],\n",
    "                     'ch1107204': [94, 100, 304, 345, 445, 668, 764, 908, 949, 1161, 1362],\n",
    "                     'ch1107205': [50, 111, 274, 345, 464, 594, 782, 811, 945, 989, 990, 1025, 1135, 1174, 1332],\n",
    "                     'ch1108801': [643],\n",
    "                     'ch1120005': [181, 452]}"
   ]
  },
  {
   "cell_type": "code",
   "execution_count": 14,
   "metadata": {},
   "outputs": [],
   "source": [
    "import pandas as pd\n",
    "\n",
    "# Create an empty DataFrame to store the data\n",
    "df = pd.DataFrame(columns=['Event', 'Detector name','String','Position'])\n",
    "\n",
    "def find_common_values(dictionary):\n",
    "    common_values = {}\n",
    "\n",
    "    for key, lst in dictionary.items():\n",
    "        for value in lst:\n",
    "            if value in common_values:\n",
    "                common_values[value].append(key)\n",
    "            else:\n",
    "                common_values[value] = [key]\n",
    "\n",
    "    for value, keys in common_values.items():\n",
    "        if len(keys)>1:\n",
    "            for j in keys:\n",
    "                x = j[2:]\n",
    "                test = cmap[x]['type']\n",
    "                wfs_all = wfs_all_dict[j]\n",
    "                wf0 = wfs_all[value, :]\n",
    "                ts = np.arange(0, wf0.shape[0], 1) * 0.8  # micro s \n",
    "                \n",
    "                \n",
    "                #plt.plot(ts[:], wf0[:], label=f'{j} which is {test}')  # plot each skipped waveform\n",
    "                #plt.legend()\n",
    "            #plt.title(f\"The event {value}\")\n",
    "            #plt.show()\n",
    "\n",
    "    #plt.xlabel('Time ($\\mu s$)')\n",
    "    #plt.ylabel('Voltage (mV)')\n",
    "\n",
    "\n",
    "find_common_values(skipped_waveforms)"
   ]
  },
  {
   "cell_type": "code",
   "execution_count": 12,
   "metadata": {},
   "outputs": [],
   "source": [
    "excel_filename = 'all_multi.xlsx'\n",
    "df.to_excel(excel_filename, index=False)"
   ]
  },
  {
   "cell_type": "code",
   "execution_count": 15,
   "metadata": {},
   "outputs": [
    {
     "data": {
      "image/png": "[encoded data removed]",
      "text/plain": [
       "<Figure size 720x720 with 1 Axes>"
      ]
     },
     "metadata": {
      "needs_background": "light"
     },
     "output_type": "display_data"
    }
   ],
   "source": [
    "for i in skipped_index1:\n",
    "    for j in all_detectors:\n",
    "        wfs_all = wfs_all_all[j]\n",
    "        wf0 = wfs_all[i, :]\n",
    "        ts = np.arange(0, wf0.shape[0], 1) * 0.8  # micro s \n",
    "        #plt.plot(ts[:], wf0[:])  # plot each skipped waveform\n",
    "\n",
    "    #plt.xlabel('Time ($\\mu s$)')\n",
    "    #plt.ylabel('Voltage (mV)')\n",
    "    #plt.title(f'Event {i} in all detectors')\n",
    "    #plt.show()\n"
   ]
  },
  {
   "cell_type": "code",
   "execution_count": null,
   "metadata": {},
   "outputs": [],
   "source": []
  }
 ],
 "metadata": {
  "kernelspec": {
   "display_name": "Python 3",
   "language": "python",
   "name": "python3"
  },
  "language_info": {
   "codemirror_mode": {
    "name": "ipython",
    "version": 3
   },
   "file_extension": ".py",
   "mimetype": "text/x-python",
   "name": "python",
   "nbconvert_exporter": "python",
   "pygments_lexer": "ipython3",
   "version": "3.8.5"
  }
 },
 "nbformat": 4,
 "nbformat_minor": 4
}
