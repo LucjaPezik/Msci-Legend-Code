{
 "cells": [
  {
   "cell_type": "code",
   "execution_count": 1,
   "metadata": {},
   "outputs": [],
   "source": [
    "import pandas as pd\n",
    "import matplotlib.pyplot as plt\n",
    "\n",
    "#importing the discharge and microdischarge events for all detectors for run 1 \n",
    "\n",
    "df = pd.read_excel('magnitude_discharge_bege.xlsx')\n",
    "df1 = pd.read_excel('magnitude_discharge_coax.xlsx')\n",
    "df2 = pd.read_excel('magnitude_discharge_icpc.xlsx')\n",
    "df3 = pd.read_excel('magnitude_discharge_ppc.xlsx')\n",
    "\n",
    "d = pd.read_excel('magnitude_microdischarge_bege.xlsx')\n",
    "d1 = pd.read_excel('magnitude_microdischarge_coax.xlsx')\n",
    "d2 = pd.read_excel('magnitude_microdischarge_icpc.xlsx')\n",
    "d3 = pd.read_excel('magnitude_microdischarge_ppc.xlsx')\n",
    "\n",
    "# Set the display options to show all columns and rows\n",
    "pd.set_option('display.max_columns', None)\n",
    "pd.set_option('display.max_rows', None)\n"
   ]
  },
  {
   "cell_type": "code",
   "execution_count": 2,
   "metadata": {},
   "outputs": [],
   "source": [
    "#combining all events \n",
    "df_total = pd.concat([df, df1, df2, df3,d,d1,d2,d3])"
   ]
  },
  {
   "cell_type": "code",
   "execution_count": 3,
   "metadata": {},
   "outputs": [],
   "source": [
    "#grouping everything by event \n",
    "df_total= df_total.groupby('Detector Name')['Event'].unique().to_dict()\n"
   ]
  },
  {
   "cell_type": "code",
   "execution_count": 4,
   "metadata": {},
   "outputs": [],
   "source": [
    "import pygama\n",
    "import pygama.lh5 as lh5\n",
    "import matplotlib.pyplot as plt\n",
    "import numpy as np\n",
    "import h5py\n",
    "from pygama.dsp.processors import pole_zero\n",
    "plt.rcParams['figure.figsize'] = [10, 10]\n",
    "import json\n",
    "from scipy.stats import zscore\n",
    "from scipy.optimize import curve_fit"
   ]
  },
  {
   "cell_type": "code",
   "execution_count": 5,
   "metadata": {},
   "outputs": [],
   "source": [
    "new_raw = f'/unix/legend/wquinn/discharges/raw_files/ '\n",
    "sto = lh5.Store() # we require this to read \n",
    "fw_new1=f'/unix/legend/wquinn/discharges/raw_files/l200-p06-r007-tst-20230726T004658Z_tier_raw.lh5'"
   ]
  },
  {
   "cell_type": "code",
   "execution_count": 6,
   "metadata": {},
   "outputs": [],
   "source": [
    "f = open('channel_maps.json','r')\n",
    "cmap = json.load(f)"
   ]
  },
  {
   "cell_type": "code",
   "execution_count": 7,
   "metadata": {},
   "outputs": [],
   "source": [
    "targets = [\"bege\",\"ppc\",\"icpc\",\"coax\"]\n",
    "matching_targets=[]\n",
    "for i in targets:\n",
    "    matching_bege = [key for key, value in cmap.items() if \"type\" in value and value[\"type\"] == i]\n",
    "    matching_targets.append(matching_bege)"
   ]
  },
  {
   "cell_type": "code",
   "execution_count": 8,
   "metadata": {},
   "outputs": [],
   "source": [
    "# Character to add\n",
    "ch = \"ch\"\n",
    "\n",
    "\n",
    "all_detectors = [ch + element for sublist in matching_targets for element in sublist]"
   ]
  },
  {
   "cell_type": "code",
   "execution_count": null,
   "metadata": {},
   "outputs": [],
   "source": [
    "tb_data_all = {}  # Dictionary to store tb_data for each detector\n",
    "wfs_all_all = {}  # Dictionary to store wfs_all for each detector\n",
    "\n",
    "for j in all_detectors:\n",
    "    tb_data_all[j] = sto.read_object(f'/{j}/raw', fw_new1)[0]\n",
    "    wfs_all_all[j] = tb_data_all[j]['waveform']['values'].nda"
   ]
  },
  {
   "cell_type": "code",
   "execution_count": null,
   "metadata": {},
   "outputs": [],
   "source": [
    "#extracting all detectors ie bege ppc icpc and coax \n",
    "flat_list = [item for sublist in matching_targets for item in sublist]\n"
   ]
  },
  {
   "cell_type": "code",
   "execution_count": null,
   "metadata": {},
   "outputs": [],
   "source": [
    "location={}\n",
    "\n",
    "#extracting the positions of each detector \n",
    "\n",
    "for i in flat_list:\n",
    "    if i in cmap:\n",
    "        target_value = cmap[i]\n",
    "        location_info = cmap[i].get('location', {})\n",
    "        location[\"ch\"+i]=location_info\n",
    "        \n",
    "        # Extract 'string' and 'position' from the 'location' dictionary\n",
    "        string_value = location_info.get('string', None)\n",
    "        position_value = location_info.get('position', None)"
   ]
  },
  {
   "cell_type": "code",
   "execution_count": null,
   "metadata": {},
   "outputs": [],
   "source": [
    "import pandas as pd\n",
    "\n",
    "\n",
    "df = pd.DataFrame(columns=['Event', 'Detector name', 'String', 'Position'])\n",
    "\n",
    "common_values = {}\n",
    "\n",
    "for key, lst in df_total.items():\n",
    "    for value in lst:\n",
    "        if value in common_values:\n",
    "            common_values[value].append(key)\n",
    "        else:\n",
    "            common_values[value] = [key]\n",
    "\n",
    "for value, keys in common_values.items():\n",
    "    if len(keys) > 1:\n",
    "        for j in keys:\n",
    "            x = j[2:]\n",
    "            test = cmap[x]['type'] #type of detector\n",
    "            wfs_all = wfs_all_all[j]\n",
    "            wf0 = wfs_all[value, :]\n",
    "            ts = np.arange(0, wf0.shape[0], 1) * 0.8  # micro s\n",
    "\n",
    "            location_info = location[j]\n",
    "\n",
    "            string_value = location_info.get('string', None)\n",
    "            position_value = location_info.get('position', None)\n",
    "\n",
    "            df = df.append({\n",
    "                'Event': value,\n",
    "                'Detector name': j,\n",
    "                'String': string_value,\n",
    "                'Position': position_value,\n",
    "            }, ignore_index=True)\n",
    "\n",
    "            #plt.plot(ts[:], wf0[:], label=f'{j} which is {test}')  # plot each skipped waveform\n",
    "            #plt.legend()\n",
    "        #plt.title(f\"The event {value}\")\n",
    "        #plt.show()\n",
    "\n",
    "#plt.xlabel('Time ($\\mu s$)')\n",
    "#plt.ylabel('Voltage (mV)')\n"
   ]
  },
  {
   "cell_type": "code",
   "execution_count": 22,
   "metadata": {},
   "outputs": [],
   "source": [
    "excel_filename = 'all_multi.xlsx'\n",
    "df.to_excel(excel_filename, index=False)"
   ]
  },
  {
   "cell_type": "code",
   "execution_count": null,
   "metadata": {},
   "outputs": [],
   "source": []
  }
 ],
 "metadata": {
  "kernelspec": {
   "display_name": "Python 3",
   "language": "python",
   "name": "python3"
  },
  "language_info": {
   "codemirror_mode": {
    "name": "ipython",
    "version": 3
   },
   "file_extension": ".py",
   "mimetype": "text/x-python",
   "name": "python",
   "nbconvert_exporter": "python",
   "pygments_lexer": "ipython3",
   "version": "3.8.5"
  }
 },
 "nbformat": 4,
 "nbformat_minor": 4
}
