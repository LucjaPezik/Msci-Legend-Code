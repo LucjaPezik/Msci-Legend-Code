{
 "cells": [
  {
   "cell_type": "markdown",
   "metadata": {},
   "source": [
    "The following notebook describes the process by which I changed all the notebooks in this directory for a specific run."
   ]
  },
  {
   "cell_type": "code",
   "execution_count": null,
   "metadata": {},
   "outputs": [],
   "source": [
    "import nbformat\n",
    "\n",
    "def modify_notebook(notebook_path, lh5_file_path):\n",
    "    # Load the notebook via its path in the folder\n",
    "    with open(notebook_path, 'r', encoding='utf-8') as notebook_file:\n",
    "        notebook_content = nbformat.read(notebook_file, as_version=4)\n",
    "\n",
    "    # Loop through cells and modify content\n",
    "    # Here the the run is being changed \n",
    "    for cell in notebook_content['cells']:\n",
    "        if cell['cell_type'] == 'code':\n",
    "            cell['source'] = cell['source'].replace(\n",
    "                f\"fw_new1=f'/unix/legend/wquinn/discharges/raw_files/l200-p06-r007-tst-20230726T000810Z_tier_raw.lh5'\",\n",
    "                f\"fw_new1=f'/unix/legend/wquinn/discharges/raw_files/{lh5_file_path}'\"\n",
    "            )\n",
    "\n",
    "    # Save the modified notebook\n",
    "    modified_notebook_path = notebook_path.replace('.ipynb', f'_{lh5_file_path}_modified.ipynb')\n",
    "    with open(modified_notebook_path, 'w', encoding='utf-8') as modified_file:\n",
    "        nbformat.write(notebook_content, modified_file)\n",
    "\n",
    "# path to notebook\n",
    "notebook_path = 'FITTED_B.ipynb'\n",
    "\n",
    "# list of runs for which we want the above notebook to be changed for \n",
    "lh5_file_paths = [\n",
    "    'l200-p06-r007-tst-20230726T004658Z_tier_raw.lh5',\n",
    "    'l200-p06-r007-tst-20230726T012405Z_tier_raw.lh5',\n",
    "    'l200-p06-r007-tst-20230726T020049Z_tier_raw.lh5',\n",
    "    'l200-p06-r007-tst-20230726T023803Z_tier_raw.lh5',\n",
    "    'l200-p06-r007-tst-20230726T031517Z_tier_raw.lh5',\n",
    "    'l200-p06-r007-tst-20230726T035425Z_tier_raw.lh5',\n",
    "    'l200-p06-r007-tst-20230726T043222Z_tier_raw.lh5',\n",
    "    'l200-p06-r007-tst-20230726T050908Z_tier_raw.lh5',\n",
    "    'l200-p06-r007-tst-20230726T054554Z_tier_raw.lh5',\n",
    "    'l200-p06-r007-tst-20230726T062149Z_tier_raw.lh5',\n",
    "    'l200-p06-r007-tst-20230726T070001Z_tier_raw.lh5'\n",
    "]\n",
    "\n",
    "# loop through each run and change the notebook \n",
    "for lh5_file_path in lh5_file_paths:\n",
    "    modify_notebook(notebook_path, lh5_file_path)"
   ]
  },
  {
   "cell_type": "code",
   "execution_count": null,
   "metadata": {},
   "outputs": [],
   "source": []
  }
 ],
 "metadata": {
  "kernelspec": {
   "display_name": "Python 3",
   "language": "python",
   "name": "python3"
  },
  "language_info": {
   "codemirror_mode": {
    "name": "ipython",
    "version": 3
   },
   "file_extension": ".py",
   "mimetype": "text/x-python",
   "name": "python",
   "nbconvert_exporter": "python",
   "pygments_lexer": "ipython3",
   "version": "3.8.8"
  }
 },
 "nbformat": 4,
 "nbformat_minor": 4
}
